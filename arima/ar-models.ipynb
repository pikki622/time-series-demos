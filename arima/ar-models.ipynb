{
 "cells": [
  {
   "cell_type": "markdown",
   "metadata": {},
   "source": [
    "# Autoregressive models"
   ]
  },
  {
   "cell_type": "code",
   "execution_count": 2,
   "metadata": {},
   "outputs": [
    {
     "ename": "SyntaxError",
     "evalue": "invalid syntax (<ipython-input-2-bcca4683049d>, line 2)",
     "output_type": "error",
     "traceback": [
      "\u001B[0;36m  File \u001B[0;32m\"<ipython-input-2-bcca4683049d>\"\u001B[0;36m, line \u001B[0;32m2\u001B[0m\n\u001B[0;31m    plot(arima.sim(list(order=c(1,0,0), ar=.1), n=100), ylab=\"x\", main=(expression(AR(1)~~~phi==+.9)))\u001B[0m\n\u001B[0m                                                                                        ^\u001B[0m\n\u001B[0;31mSyntaxError\u001B[0m\u001B[0;31m:\u001B[0m invalid syntax\n"
     ]
    }
   ],
   "source": [
    "par(mfrow=c(3, 1))\n",
    "plot(arima.sim(list(order=c(1,0,0), ar=.1), n=100), ylab=\"x\", main=(expression(AR(1)~~~phi==+.9)))\n",
    "plot(arima.sim(list(order=c(1,0,0), ar=.9), n=100), ylab=\"x\", main=(expression(AR(1)~~~phi==+.9)))\n",
    "plot(arima.sim(list(order=c(1,0,0), ar=-.9), n=100), ylab=\"x\", main=(expression(AR(1)~~~phi==-.9)))"
   ]
  },
  {
   "cell_type": "code",
   "execution_count": null,
   "metadata": {},
   "outputs": [],
   "source": [
    "set.seed(819)\n",
    "\n",
    "# 50 extra to avoid startup problems \n",
    "w <- rnorm(550, 0, 1)\n",
    "\n",
    "# AR filter\n",
    "# Just forcing the AR coefficients here, rather than fitting the model to the data.\n",
    "x <- filter(w, filter=c(1.0, -0.9), method=\"recursive\")\n",
    "\n",
    "# The [-(1:50)] removes the first 50 values from the series.\n",
    "par(mfrow=c(2, 1))\n",
    "plot.ts(w[-(1:50)], main=\"white noise\")\n",
    "plot.ts(x[-(1:50)], main=\"autoregression\")"
   ]
  },
  {
   "cell_type": "code",
   "execution_count": null,
   "metadata": {},
   "outputs": [],
   "source": []
  }
 ],
 "metadata": {
  "kernelspec": {
   "name": "ir",
   "language": "R",
   "display_name": "R"
  },
  "language_info": {
   "codemirror_mode": "r",
   "file_extension": ".r",
   "mimetype": "text/x-r-source",
   "name": "R",
   "pygments_lexer": "r",
   "version": "3.6.1"
  }
 },
 "nbformat": 4,
 "nbformat_minor": 2
}